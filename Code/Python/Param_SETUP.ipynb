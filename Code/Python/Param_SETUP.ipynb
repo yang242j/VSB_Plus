{
 "metadata": {
  "language_info": {
   "codemirror_mode": {
    "name": "ipython",
    "version": 3
   },
   "file_extension": ".py",
   "mimetype": "text/x-python",
   "name": "python",
   "nbconvert_exporter": "python",
   "pygments_lexer": "ipython3",
   "version": "3.8.3-final"
  },
  "orig_nbformat": 2,
  "kernelspec": {
   "name": "python3",
   "display_name": "Python 3",
   "language": "python"
  }
 },
 "nbformat": 4,
 "nbformat_minor": 2,
 "cells": [
  {
   "source": [
    "## Param_SETUP.ipynb - Setup the some constant parameters for the course_info file.\n",
    "\n",
    "In this file, setup necessary parameters like the courses dictory or file name varible.\n",
    "\n",
    "The varible of faculty with course number is dictory that are divied into each term. eg. term1, term2...\n",
    "\n",
    "*** Note: The approved elective is signed as string varible 'Approved'.\n",
    "\n",
    "*** Note: The key element Approved in the dictory that means the list of the apporved elective course. ***"
   ],
   "cell_type": "markdown",
   "metadata": {}
  },
  {
   "source": [
    "SSE (Software Systems Engineering)\n",
    "\n",
    "PSE (Petroleum System Engineering)\n",
    "\n",
    "ISE (Industrial Systems Engineering)\n",
    "\n",
    "EVSE (Environmental Systems Engineering)\n",
    "\n",
    "ESE (Electronic Systems Engineering)"
   ],
   "cell_type": "markdown",
   "metadata": {}
  },
  {
   "cell_type": "code",
   "execution_count": 4,
   "metadata": {},
   "outputs": [],
   "source": [
    "# The Software Systems dict that is divied in term, each term has own courses\n",
    "SSE_dict = {\n",
    "    'term1':['CHEM 104', 'ENGG 123', 'ENGG 140', 'MATH 110', 'MATH 122'],\n",
    "    'term2':['CS 110', 'ENGG 100', 'ENGL 100', 'MATH 111','PHYS 119'],\n",
    "    'term3':['CS 115', 'ENEL 280', 'ENEV 223', 'MATH 213','PHYS 112'],\n",
    "    'term4':['CS 210', 'ENEL 281', 'ENEL 282', 'MATH 217','STAT 289'],\n",
    "    'term5':['CS 215', 'CS 340', 'ENEL 384', 'ENSE 352','ENSE 374'],\n",
    "    'term6':['BUS 260', 'ECON 201', 'ENEL 380', 'ENSE 353','Approved'],\n",
    "    'term7':['ENEL 387', 'ENSE 470', 'ENSE 471', 'ENSE 475','Approved'],\n",
    "    'term8':['ENGG 303', 'ENSE 400', 'ENSE 472', 'Approved','Approved','Approved'],\n",
    "    'term9':['ENGG 401', 'ENSE 350', 'ENSE 477', 'Approved','Approved'],\n",
    "    'Approved':['ENSE 473', 'ENSE 474', 'ENSE 479', 'ENSE 480','ENSE 481','ENSE 482','ENSE 483','CS 205','CS 315','CS 330','CS 375','CS 405','CS 425','CS 427','ENEL 487','ENEL 489']\n",
    "}\n",
    "\n",
    "# The Petroleum System\n",
    "PSE_dict = {\n",
    "    'term1':['CHEM 104', 'ENGG 123', 'ENGG 140', 'MATH 110', 'MATH 122'],\n",
    "    'term2':['CS 110', 'ENGG 100', 'ENGL 100', 'MATH 111','PHYS 119'],\n",
    "    'term3':['ENEL 280','ENGG 141', 'ENPE 241','GEOL 102', 'MATH 217'],\n",
    "    'term4':['ECON 201', 'ENIN 233', 'ENPE 251', 'MATH 213','STAT 289'],\n",
    "    'term5':['CHEM 140', 'ENE 261', 'ENGG 303', 'ENPE 300','ENPE 360'],\n",
    "    'term6':['BUS 260', 'ENE 223', 'ENGG 330', 'ENIN 253','ENIN 350'],\n",
    "    'term7':['ENIN 355', 'ENPE 302', 'ENPE 370', 'GEOL 270','Approved'],\n",
    "    'term8':['ENPE 400', 'ENPE 410', 'ENPE 440', 'ENPE 450','Approved','Approved'],\n",
    "    'term9':['ENGG 401', 'ENPE 419', 'ENPE 486', 'Approved','Approved'],\n",
    "    'Approved':['ENPE 340', 'ENPE 380', 'ENPE 435', 'ENPE 448','ENPE 470','ENPE 475','ENPE 490','ENPE 491','ENPE 492','ENEV 422','ENIN 433','ENIN 453','ENIN 456']\n",
    "}\n",
    "\n",
    "# The Industrial Systems \n",
    "ISE_dict = {\n",
    "    'term1':['CHEM 104', 'ENGG 123', 'ENGG 140', 'MATH 110', 'MATH 122'],\n",
    "    'term2':['CS 110', 'ENGG 100', 'ENGL 100', 'MATH 111','PHYS 119'],\n",
    "    'term3':['ENEL 280','ENEV 223', 'ENGG 141','MATH 217', 'Approved'],\n",
    "    'term4':['ENIN 233', 'ENIN 241', 'MATH 213', 'STAT 289','CHEM 105'],\n",
    "    'term5':['Approved', 'ENEV 261', 'ENGG 3330', 'ENIN 331','ENIN 343'],\n",
    "    'term6':['BUS 260', 'ECON 201', 'ENEL 380', 'ENIN 253','ENIN 350'],\n",
    "    'term7':['ENIN 355', 'ENIN 430', 'ENIN 440', 'ENIN 453','Approved'],\n",
    "    'term8':['BUS 250', 'ENGG 303', 'ENIN 340', 'ENIN 349','ENIN 400','ENIN 444'],\n",
    "    'term9':['BUS 210', 'ENGG 401', 'ENIN 413', 'ENIN 433','Approved'],\n",
    "    'Approved':['ENEL 389', 'ENEL 484', 'ENGG 411', 'ENIN 370','ENIN 445','ENIN 448','ENIN 456','ENIN 370','ENIN 445','ENIN 456','ENIN 448','ENIN 455']\n",
    "}\n",
    "\n",
    "# The Environmental Systems\n",
    "EVSE_dict = {\n",
    "    'term1':['CHEM 104', 'ENGG 123', 'ENGG 140', 'MATH 110', 'MATH 122'],\n",
    "    'term2':['CS 110', 'ENGG 100', 'ENGL 100', 'MATH 111','PHYS 119'],\n",
    "    'term3':['CHEM 140', 'ENEV 223',\"ENEV 372\",\"ENGG 141\",\"GEOL 102\"],\n",
    "    'term4':['ECON 201',\"ENIN 241\",\"Approved\",\"MATH 213\",'STAT 289'],\n",
    "    'term5':['BIOL 233',\"ENEV 261\",\"ENEV 321\",\"ENGG 330\",\"Approved\"],\n",
    "    'term6':['ENEV 281',\"ENEV 334\",\"ENEV 384\",\"ENEV 480\",\"ENIN 253\"],\n",
    "    'term7':['ENEV 360','ENEV 421','ENEV 422','ENEV 440','ENEV 462'],\n",
    "    'term8':['ENEV 363','ENEV 383','ENEV 400','ENEV 435','ENGG 303','Approved'],\n",
    "    'term9':['ENEV 415','ENEV 469','ENGG 401','Approved','Approved'],\n",
    "    'Approved':['ENEV 408','ENEV 445','ENEV 463','ENEV 463','ENEV 475','ENEV 484','ENGG 411','ENIN 350','ENIN 453','ENIN 455','ENPE 490','BUS 260','BUS 302','ENEL 280']\n",
    "}\n",
    "\n",
    "# The Electronic Systems\n",
    "ESE_dict = {\n",
    "    'term1':['CHEM 104', 'ENGG 123', 'ENGG 140', 'MATH 110', 'MATH 122'],\n",
    "    'term2':['CS 110', 'ENGG 100', 'ENGL 100', 'MATH 111','PHYS 119'],\n",
    "    'term3':['CS 115', 'ENEL 280',\"ENEV 223\",\"MATH 217\",\"PHYS 112\"],\n",
    "    'term4':['CS 210',\"ENEL 281\",\"ENEL 282\",\"MATH 213\",'STAT 289'],\n",
    "    'term5':['BUS 260',\"ENEL 383\",\"ENEL 384\",\"ENSE 352\",\"PHYS 201\"],\n",
    "    'term6':['BUS 210',\"CS 335\",\"ECON 201\",\"ENEL 380\",\"ENEL 390\"],\n",
    "    'term7':['ENEL 371','ENEL 387','ENSE 350','Approved','Approved'],\n",
    "    'term8':['ENEL 400','ENGG 303','Approved','Approved','Approved','Approved'],\n",
    "    'term9':['ENEL 417','ENGG 401','Approved','Approved','Approved'],\n",
    "    'Approved':['ENEL 389','ENEL 393','ENEL 395','ENEL 472','ENEL 482','ENEL 484','ENEL 487','ENEL 489','ENEL 494','ENEL 495','ENEV 261','ENIN 253','ENSE 481','CS 340','CS 350','CS 372','CS 375','ENEV 334','ENGG 411','ENIN 433','ENIN 440']\n",
    "}"
   ]
  },
  {
   "source": [
    "The functions that convert the term dictory to collected course dictory"
   ],
   "cell_type": "markdown",
   "metadata": {}
  },
  {
   "cell_type": "code",
   "execution_count": 5,
   "metadata": {},
   "outputs": [],
   "source": [
    "# Insert the the elements to course dictory \n",
    "def insert(course_dict, faculty, course_num):\n",
    "    if faculty in course_dict.keys():\n",
    "        if not course_num in course_dict[faculty]:\n",
    "            course_dict[faculty].append(course_num)\n",
    "        return \n",
    "    else:\n",
    "        course_dict[faculty] = [course_num]"
   ]
  },
  {
   "cell_type": "code",
   "execution_count": 6,
   "metadata": {},
   "outputs": [],
   "source": [
    "# Converting the term dictory to course dictory\n",
    "def conver(course_dict, faculty_dict):\n",
    "    for key in faculty_dict.keys():\n",
    "        for short_name in faculty_dict[key]:\n",
    "            if short_name == 'Approved': continue\n",
    "            # print(short_name)\n",
    "            faculty = short_name.split(' ')[0]\n",
    "            course_num = short_name.split(' ')[1]\n",
    "            insert(course_dict, faculty, course_num)\n"
   ]
  },
  {
   "source": [
    "Generating the all courses dictory for the engineer and courses collection for the different faculty.\n",
    "\n",
    "software_dict\n",
    "\n",
    "petroleum_dict\n",
    "\n",
    "industrial_dict\n",
    "\n",
    "environmental_dict\n",
    "\n",
    "electronic_dict\n",
    "\n",
    "allCourse_dict"
   ],
   "cell_type": "markdown",
   "metadata": {}
  },
  {
   "cell_type": "code",
   "execution_count": 7,
   "metadata": {},
   "outputs": [],
   "source": [
    "#  For varibles that courses for different faculties\n",
    "software_dict = dict()\n",
    "conver(software_dict, SSE_dict)\n",
    "\n",
    "petroleum_dict = dict()\n",
    "conver(petroleum_dict, PSE_dict)\n",
    "\n",
    "industrial_dict = dict()\n",
    "conver(industrial_dict, ISE_dict)\n",
    "\n",
    "environmental_dict = dict()\n",
    "conver(environmental_dict, EVSE_dict)\n",
    "\n",
    "electronic_dict = dict()\n",
    "conver(electronic_dict, ESE_dict)\n",
    "\n",
    "\n",
    "# For varible that all courses for enggineer\n",
    "allCourse_dict = dict()\n",
    "conver(allCourse_dict, SSE_dict)\n",
    "conver(allCourse_dict, PSE_dict)\n",
    "conver(allCourse_dict, ISE_dict)\n",
    "conver(allCourse_dict, EVSE_dict)\n",
    "conver(allCourse_dict, ESE_dict)"
   ]
  },
  {
   "source": [
    "Setup the parameters for url and web parameter"
   ],
   "cell_type": "markdown",
   "metadata": {}
  },
  {
   "cell_type": "code",
   "execution_count": 8,
   "metadata": {},
   "outputs": [],
   "source": [
    "detail_url = \"https://banner.uregina.ca:17023/ssbprod/bwckctlg.p_disp_course_detail\"\n",
    "detail_para = {'cat_term_in':'202110',\n",
    "        'subj_code_in':'ENSE',\n",
    "        'crse_numb_in':'400'\n",
    "}\n",
    "section_url = 'https://banner.uregina.ca:17023/ssbprod/bwckctlg.p_disp_listcrse'\n",
    "section_para ={\n",
    "    'term_in':'202110',\n",
    "    'subj_in':'ENSE',\n",
    "    'crse_in':'271',\n",
    "    'schd_in':''\n",
    "}\n"
   ]
  },
  {
   "source": [
    "Setup the file name for the xlwt or json file"
   ],
   "cell_type": "markdown",
   "metadata": {}
  },
  {
   "cell_type": "code",
   "execution_count": 9,
   "metadata": {},
   "outputs": [],
   "source": [
    "SSE_file = 'software course'\n",
    "\n",
    "PSE_file = 'petroleum course'\n",
    "\n",
    "ISE_file = 'industrial course'\n",
    "\n",
    "EVSE_file = 'environmental course'\n",
    "\n",
    "ESE_file = 'electronic course'\n",
    "\n",
    "AllCourse_file = 'all course'"
   ]
  },
  {
   "source": [
    "Template for the course and section dictory "
   ],
   "cell_type": "markdown",
   "metadata": {}
  },
  {
   "cell_type": "code",
   "execution_count": 10,
   "metadata": {},
   "outputs": [],
   "source": [
    "TempCou = {\n",
    "        \"short_name\" : [],\n",
    "        \"title\" : [],\n",
    "        \"faculty\" : [],\n",
    "        \"course_num\" : [],\n",
    "        \"credit\" : [],\n",
    "        \"prerequisite\" : [],\n",
    "        \"description\" : []\n",
    "    }\n",
    "TempSec = {\n",
    "    'name':[],\n",
    "    'course_code':[],\n",
    "    'title':[],\n",
    "    'section_num':[],\n",
    "    'term':[],\n",
    "    'type':[],\n",
    "    'time':[],\n",
    "    'days':[],\n",
    "    'loc':[],\n",
    "    'date_range':[],\n",
    "    'schedule_type':[],\n",
    "    'instructors':[]\n",
    "}\n",
    "TempCouJSON = {\n",
    "        \"term\": None,\n",
    "        \"short_name\" : None,\n",
    "        \"title\" : None,\n",
    "        \"faculty\" : None,\n",
    "        \"credit\" : None,\n",
    "        \"description\" : None,\n",
    "        \"prerequisite\" : None,\n",
    "        'section':[]\n",
    "    }"
   ]
  },
  {
   "cell_type": "code",
   "execution_count": 13,
   "metadata": {},
   "outputs": [],
   "source": [
    "term_ins = ['202110', '202030', '202020']\n",
    "fau_names = ['SSE', 'PSE', 'ISE', 'EVSE', 'ESE', 'ALL']"
   ]
  },
  {
   "cell_type": "code",
   "execution_count": 21,
   "metadata": {},
   "outputs": [],
   "source": [
    "def genJSON(course_json, file_loc):\n",
    "    j = json.dumps(course_json)\n",
    "    with open(file_loc,'w') as f:\n",
    "        f.write(j)\n",
    "        f.close()"
   ]
  },
  {
   "cell_type": "code",
   "execution_count": 24,
   "metadata": {},
   "outputs": [],
   "source": [
    "import json\n",
    "facluty_list =[SSE_dict, PSE_dict, ISE_dict, EVSE_dict, ESE_dict]\n",
    "for index in range(len(facluty_list)):\n",
    "    genJSON(facluty_list[index], fau_names[index] + '_req' + '.json')"
   ]
  },
  {
   "cell_type": "code",
   "execution_count": 12,
   "metadata": {},
   "outputs": [
    {
     "output_type": "stream",
     "name": "stdout",
     "text": [
      "All parameter are set up\n"
     ]
    }
   ],
   "source": [
    "print(\"All parameter are set up\")"
   ]
  }
 ]
}