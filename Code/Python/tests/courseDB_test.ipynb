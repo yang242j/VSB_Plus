{
 "metadata": {
  "language_info": {
   "codemirror_mode": {
    "name": "ipython",
    "version": 3
   },
   "file_extension": ".py",
   "mimetype": "text/x-python",
   "name": "python",
   "nbconvert_exporter": "python",
   "pygments_lexer": "ipython3",
   "version": "3.9.2-final"
  },
  "orig_nbformat": 2,
  "kernelspec": {
   "name": "python3",
   "display_name": "Python 3.9.2 64-bit",
   "metadata": {
    "interpreter": {
     "hash": "ac59ebe37160ed0dfa835113d9b8498d9f09ceb179beaac4002f036b9467c963"
    }
   }
  }
 },
 "nbformat": 4,
 "nbformat_minor": 2,
 "cells": [
  {
   "cell_type": "code",
   "execution_count": 9,
   "metadata": {},
   "outputs": [],
   "source": [
    "#-*-coding:utf8-*-\n",
    "from time import sleep\n",
    "from selenium import webdriver\n",
    "from selenium.webdriver.common.by import By\n",
    "\n",
    "from  common.base import LoginPage\n",
    "import unittest"
   ]
  },
  {
   "cell_type": "code",
   "execution_count": 4,
   "metadata": {},
   "outputs": [],
   "source": [
    "from case.courseDB import *"
   ]
  },
  {
   "cell_type": "code",
   "execution_count": 5,
   "metadata": {},
   "outputs": [],
   "source": [
    "# run chrome，open browser\n",
    "driver =webdriver.Chrome()\n",
    "# set the browser window size\n",
    "driver.set_window_size(1080,800)\n",
    "\n",
    "# Set global operating time\n",
    "driver.implicitly_wait(10)\n",
    "\n",
    "# open link\n",
    "driver.get('http://15.223.123.122/')\n",
    "\n",
    "sleep(1)\n",
    "driver.find_element_by_link_text(\"VSBP\").click()\n",
    "\n",
    "sleep(1)\n",
    "driver.find_element_by_link_text(\"GUEST\").click()\n",
    "\n",
    "# lp = LoginPage(driver)\n",
    "# lp.login(\"200362586\", \"200362586\")\n",
    "print(\"Go to courseDB page\")"
   ]
  },
  {
   "cell_type": "code",
   "execution_count": 8,
   "metadata": {},
   "outputs": [],
   "source": [
    "# Test the course search funcation\n",
    "assert \"VSB_Plus\" in driver.title"
   ]
  },
  {
   "cell_type": "code",
   "execution_count": null,
   "metadata": {},
   "outputs": [],
   "source": [
    "driver.quit()"
   ]
  }
 ]
}